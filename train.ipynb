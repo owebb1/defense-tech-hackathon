{
 "cells": [
  {
   "cell_type": "code",
   "execution_count": null,
   "metadata": {},
   "outputs": [],
   "source": []
  },
  {
   "cell_type": "code",
   "execution_count": 15,
   "metadata": {},
   "outputs": [],
   "source": [
    "import numpy as np\n",
    "from PIL import Image\n",
    "from sklearn.model_selection import train_test_split\n",
    "import os\n",
    "from sklearn.model_selection import train_test_split\n",
    "from sklearn.ensemble import RandomForestClassifier\n",
    "from sklearn.metrics import classification_report, accuracy_score"
   ]
  },
  {
   "cell_type": "code",
   "execution_count": 16,
   "metadata": {},
   "outputs": [],
   "source": [
    "def rgb_to_grayscale(rgb_array):\n",
    "    if rgb_array.ndim == 3 and rgb_array.shape[2] == 3:\n",
    "        grayscale_array = np.dot(rgb_array[..., :3], [0.2989, 0.5870, 0.1140])\n",
    "        return grayscale_array\n",
    "    else:\n",
    "        raise ValueError(\n",
    "            \"Input array must be an RGB image with three channels\")"
   ]
  },
  {
   "cell_type": "code",
   "execution_count": 21,
   "metadata": {},
   "outputs": [
    {
     "name": "stdout",
     "output_type": "stream",
     "text": [
      "/Users/owebb/defense-tech-hackathon/boat_wake_dataset/carrier/image1.png\n",
      "Unexpected exception formatting exception. Falling back to standard exception\n"
     ]
    },
    {
     "name": "stderr",
     "output_type": "stream",
     "text": [
      "Traceback (most recent call last):\n",
      "  File \"/Users/owebb/defense-tech-hackathon/hackvenv/lib/python3.10/site-packages/IPython/core/interactiveshell.py\", line 3548, in run_code\n",
      "    exec(code_obj, self.user_global_ns, self.user_ns)\n",
      "  File \"/var/folders/lx/h2jd5hsn0337g4wfrjf3jskr0000gn/T/ipykernel_49003/2027377735.py\", line 19, in <module>\n",
      "    image = Image.open(image_path)\n",
      "  File \"/Users/owebb/defense-tech-hackathon/hackvenv/lib/python3.10/site-packages/PIL/Image.py\", line 3284, in open\n",
      "    # Image processing.\n",
      "  File \"/Users/owebb/defense-tech-hackathon/hackvenv/lib/python3.10/site-packages/PIL/Image.py\", line 3270, in _open_core\n",
      "  File \"/Users/owebb/defense-tech-hackathon/hackvenv/lib/python3.10/site-packages/PIL/ImageFile.py\", line 117, in __init__\n",
      "    self._open()\n",
      "  File \"/Users/owebb/defense-tech-hackathon/hackvenv/lib/python3.10/site-packages/PIL/PngImagePlugin.py\", line 740, in _open\n",
      "    self.mode = self.png.im_mode\n",
      "AttributeError: can't set attribute 'mode'\n",
      "\n",
      "During handling of the above exception, another exception occurred:\n",
      "\n",
      "Traceback (most recent call last):\n",
      "  File \"/Users/owebb/defense-tech-hackathon/hackvenv/lib/python3.10/site-packages/IPython/core/interactiveshell.py\", line 2142, in showtraceback\n",
      "    stb = self.InteractiveTB.structured_traceback(\n",
      "  File \"/Users/owebb/defense-tech-hackathon/hackvenv/lib/python3.10/site-packages/IPython/core/ultratb.py\", line 1435, in structured_traceback\n",
      "    return FormattedTB.structured_traceback(\n",
      "  File \"/Users/owebb/defense-tech-hackathon/hackvenv/lib/python3.10/site-packages/IPython/core/ultratb.py\", line 1326, in structured_traceback\n",
      "    return VerboseTB.structured_traceback(\n",
      "  File \"/Users/owebb/defense-tech-hackathon/hackvenv/lib/python3.10/site-packages/IPython/core/ultratb.py\", line 1173, in structured_traceback\n",
      "    formatted_exception = self.format_exception_as_a_whole(etype, evalue, etb, number_of_lines_of_context,\n",
      "  File \"/Users/owebb/defense-tech-hackathon/hackvenv/lib/python3.10/site-packages/IPython/core/ultratb.py\", line 1088, in format_exception_as_a_whole\n",
      "    frames.append(self.format_record(record))\n",
      "  File \"/Users/owebb/defense-tech-hackathon/hackvenv/lib/python3.10/site-packages/IPython/core/ultratb.py\", line 970, in format_record\n",
      "    frame_info.lines, Colors, self.has_colors, lvals\n",
      "  File \"/Users/owebb/defense-tech-hackathon/hackvenv/lib/python3.10/site-packages/IPython/core/ultratb.py\", line 792, in lines\n",
      "    return self._sd.lines\n",
      "  File \"/Users/owebb/defense-tech-hackathon/hackvenv/lib/python3.10/site-packages/stack_data/utils.py\", line 145, in cached_property_wrapper\n",
      "    value = obj.__dict__[self.func.__name__] = self.func(obj)\n",
      "  File \"/Users/owebb/defense-tech-hackathon/hackvenv/lib/python3.10/site-packages/stack_data/core.py\", line 734, in lines\n",
      "    pieces = self.included_pieces\n",
      "  File \"/Users/owebb/defense-tech-hackathon/hackvenv/lib/python3.10/site-packages/stack_data/utils.py\", line 145, in cached_property_wrapper\n",
      "    value = obj.__dict__[self.func.__name__] = self.func(obj)\n",
      "  File \"/Users/owebb/defense-tech-hackathon/hackvenv/lib/python3.10/site-packages/stack_data/core.py\", line 681, in included_pieces\n",
      "    pos = scope_pieces.index(self.executing_piece)\n",
      "  File \"/Users/owebb/defense-tech-hackathon/hackvenv/lib/python3.10/site-packages/stack_data/utils.py\", line 145, in cached_property_wrapper\n",
      "    value = obj.__dict__[self.func.__name__] = self.func(obj)\n",
      "  File \"/Users/owebb/defense-tech-hackathon/hackvenv/lib/python3.10/site-packages/stack_data/core.py\", line 660, in executing_piece\n",
      "    return only(\n",
      "  File \"/Users/owebb/defense-tech-hackathon/hackvenv/lib/python3.10/site-packages/executing/executing.py\", line 116, in only\n",
      "    raise NotOneValueFound('Expected one value, found 0')\n",
      "executing.executing.NotOneValueFound: Expected one value, found 0\n"
     ]
    }
   ],
   "source": [
    "folder_path = '/Users/owebb/defense-tech-hackathon/boat_wake_dataset'\n",
    "# Initialize lists to hold image data and labels\n",
    "data = []\n",
    "labels = []\n",
    "\n",
    "categories = ['carrier']\n",
    "for category in categories:\n",
    "    # Define the full path to the category's folder\n",
    "    category_folder = os.path.join(folder_path, category)\n",
    "  \n",
    "    # Loop through each image file in the category's folder\n",
    "    for image_filename in os.listdir(category_folder):\n",
    "        # Construct the full path to the image\n",
    "        image_path = os.path.join(category_folder, image_filename)\n",
    "\n",
    "        print(image_path)\n",
    "      \n",
    "        # Open the image and convert it to grayscale\n",
    "        image = Image.open(image_path)\n",
    "        # print(\"here\")\n",
    "        # image = image.convert('L')\n",
    "        # image_array = np.array(image)\n",
    "      \n",
    "        # Append the image data and label to the lists\n",
    "        # data.append(image_array)\n",
    "        # labels.append(categories.index(category))\n",
    "        # except Exception as e:\n",
    "        #     print(f\"Error processing image {image_path}: {e}\")\n"
   ]
  },
  {
   "cell_type": "code",
   "execution_count": null,
   "metadata": {},
   "outputs": [],
   "source": [
    "# Split the dataset\n",
    "X_train, X_test, y_train, y_test = train_test_split(\n",
    "    data, labels, test_size=0.2, random_state=42)"
   ]
  },
  {
   "cell_type": "code",
   "execution_count": null,
   "metadata": {},
   "outputs": [],
   "source": [
    "# Initialize the classifier\n",
    "clf = RandomForestClassifier()\n",
    "\n",
    "# Train the classifier\n",
    "clf.fit(X_train, y_train)\n",
    "\n",
    "# # Predict on the test set\n",
    "# y_pred = clf.predict(X_test)\n",
    "\n",
    "# # Print classification report\n",
    "# print(classification_report(y_test, y_pred))"
   ]
  }
 ],
 "metadata": {
  "kernelspec": {
   "display_name": "hackvenv",
   "language": "python",
   "name": "python3"
  },
  "language_info": {
   "codemirror_mode": {
    "name": "ipython",
    "version": 3
   },
   "file_extension": ".py",
   "mimetype": "text/x-python",
   "name": "python",
   "nbconvert_exporter": "python",
   "pygments_lexer": "ipython3",
   "version": "3.10.11"
  },
  "orig_nbformat": 4
 },
 "nbformat": 4,
 "nbformat_minor": 2
}
